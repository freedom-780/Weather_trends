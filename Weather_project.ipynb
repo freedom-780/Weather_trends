{
  "nbformat": 4,
  "nbformat_minor": 0,
  "metadata": {
    "colab": {
      "name": "Weather project.ipynb",
      "provenance": [],
      "toc_visible": true,
      "authorship_tag": "ABX9TyM1F+F1U1DK8FUDLiWClugy",
      "include_colab_link": true
    },
    "kernelspec": {
      "name": "python3",
      "display_name": "Python 3"
    }
  },
  "cells": [
    {
      "cell_type": "markdown",
      "metadata": {
        "id": "view-in-github",
        "colab_type": "text"
      },
      "source": [
        "<a href=\"https://colab.research.google.com/github/freedom-780/Weather_trends/blob/main/Weather_project.ipynb\" target=\"_parent\"><img src=\"https://colab.research.google.com/assets/colab-badge.svg\" alt=\"Open In Colab\"/></a>"
      ]
    },
    {
      "cell_type": "markdown",
      "metadata": {
        "id": "Qr8AjB4FMkvc"
      },
      "source": [
        "#Outline \r\n",
        "\r\n",
        "*   Tools used: Python in a Colab Notebook\r\n",
        "*   Calculated the moving average using avg_temp.rolling().mean()\r\n",
        "*   Used the seaborn library to visualize the trends using a standardline plot. No other considerations were needed in this case\r\n",
        "*   file avaliable at: https://github.com/freedom-780/Weather_trends/blob/main/Weather_project.ipynb\r\n",
        "*  SQL commands used to extract the data: SELECT city, country, avg_temp, year\r\n",
        "  FROM city_data; SELlECT avg_temp, year FROM city_data\r\n",
        "\r\n",
        "\r\n",
        "\r\n"
      ]
    },
    {
      "cell_type": "markdown",
      "metadata": {
        "id": "84RV9dehADCh"
      },
      "source": [
        "# Import Data from SQL Files "
      ]
    },
    {
      "cell_type": "markdown",
      "metadata": {
        "id": "dIvV8MgCKSIc"
      },
      "source": [
        "Import library files and import csv files from Github repository "
      ]
    },
    {
      "cell_type": "code",
      "metadata": {
        "colab": {
          "base_uri": "https://localhost:8080/",
          "height": 194
        },
        "id": "uKs8c8aNnx0g",
        "outputId": "fbe4305d-06e8-414f-d8da-4152cb5ac6ff"
      },
      "source": [
        "import pandas as pd\r\n",
        "import seaborn as sns\r\n",
        "import matplotlib.pyplot as plt\r\n",
        "city_weather = \"https://raw.githubusercontent.com/freedom-780/Weather_trends/b4066594b64afa00050fffdfc4995868d2f36ed1/city_data.csv\"\r\n",
        "city_weather = pd.read_csv(city_weather)\r\n",
        "city_weather.head()"
      ],
      "execution_count": 1,
      "outputs": [
        {
          "output_type": "execute_result",
          "data": {
            "text/html": [
              "<div>\n",
              "<style scoped>\n",
              "    .dataframe tbody tr th:only-of-type {\n",
              "        vertical-align: middle;\n",
              "    }\n",
              "\n",
              "    .dataframe tbody tr th {\n",
              "        vertical-align: top;\n",
              "    }\n",
              "\n",
              "    .dataframe thead th {\n",
              "        text-align: right;\n",
              "    }\n",
              "</style>\n",
              "<table border=\"1\" class=\"dataframe\">\n",
              "  <thead>\n",
              "    <tr style=\"text-align: right;\">\n",
              "      <th></th>\n",
              "      <th>city</th>\n",
              "      <th>country</th>\n",
              "      <th>avg_temp</th>\n",
              "      <th>year</th>\n",
              "    </tr>\n",
              "  </thead>\n",
              "  <tbody>\n",
              "    <tr>\n",
              "      <th>0</th>\n",
              "      <td>Abidjan</td>\n",
              "      <td>Côte D'Ivoire</td>\n",
              "      <td>25.58</td>\n",
              "      <td>1849</td>\n",
              "    </tr>\n",
              "    <tr>\n",
              "      <th>1</th>\n",
              "      <td>Abidjan</td>\n",
              "      <td>Côte D'Ivoire</td>\n",
              "      <td>25.52</td>\n",
              "      <td>1850</td>\n",
              "    </tr>\n",
              "    <tr>\n",
              "      <th>2</th>\n",
              "      <td>Abidjan</td>\n",
              "      <td>Côte D'Ivoire</td>\n",
              "      <td>25.67</td>\n",
              "      <td>1851</td>\n",
              "    </tr>\n",
              "    <tr>\n",
              "      <th>3</th>\n",
              "      <td>Abidjan</td>\n",
              "      <td>Côte D'Ivoire</td>\n",
              "      <td>NaN</td>\n",
              "      <td>1852</td>\n",
              "    </tr>\n",
              "    <tr>\n",
              "      <th>4</th>\n",
              "      <td>Abidjan</td>\n",
              "      <td>Côte D'Ivoire</td>\n",
              "      <td>NaN</td>\n",
              "      <td>1853</td>\n",
              "    </tr>\n",
              "  </tbody>\n",
              "</table>\n",
              "</div>"
            ],
            "text/plain": [
              "      city        country  avg_temp  year\n",
              "0  Abidjan  Côte D'Ivoire     25.58  1849\n",
              "1  Abidjan  Côte D'Ivoire     25.52  1850\n",
              "2  Abidjan  Côte D'Ivoire     25.67  1851\n",
              "3  Abidjan  Côte D'Ivoire       NaN  1852\n",
              "4  Abidjan  Côte D'Ivoire       NaN  1853"
            ]
          },
          "metadata": {
            "tags": []
          },
          "execution_count": 1
        }
      ]
    },
    {
      "cell_type": "code",
      "metadata": {
        "colab": {
          "base_uri": "https://localhost:8080/",
          "height": 194
        },
        "id": "-KU7xouTqNoP",
        "outputId": "f8c7162e-023b-42a6-bf75-2ed75dab7a1f"
      },
      "source": [
        " chicago_weather = city_weather[city_weather[\"city\"] == \"Chicago\"]\r\n",
        "chicago_weather.head()"
      ],
      "execution_count": 2,
      "outputs": [
        {
          "output_type": "execute_result",
          "data": {
            "text/html": [
              "<div>\n",
              "<style scoped>\n",
              "    .dataframe tbody tr th:only-of-type {\n",
              "        vertical-align: middle;\n",
              "    }\n",
              "\n",
              "    .dataframe tbody tr th {\n",
              "        vertical-align: top;\n",
              "    }\n",
              "\n",
              "    .dataframe thead th {\n",
              "        text-align: right;\n",
              "    }\n",
              "</style>\n",
              "<table border=\"1\" class=\"dataframe\">\n",
              "  <thead>\n",
              "    <tr style=\"text-align: right;\">\n",
              "      <th></th>\n",
              "      <th>city</th>\n",
              "      <th>country</th>\n",
              "      <th>avg_temp</th>\n",
              "      <th>year</th>\n",
              "    </tr>\n",
              "  </thead>\n",
              "  <tbody>\n",
              "    <tr>\n",
              "      <th>15107</th>\n",
              "      <td>Chicago</td>\n",
              "      <td>United States</td>\n",
              "      <td>5.44</td>\n",
              "      <td>1743</td>\n",
              "    </tr>\n",
              "    <tr>\n",
              "      <th>15108</th>\n",
              "      <td>Chicago</td>\n",
              "      <td>United States</td>\n",
              "      <td>11.73</td>\n",
              "      <td>1744</td>\n",
              "    </tr>\n",
              "    <tr>\n",
              "      <th>15109</th>\n",
              "      <td>Chicago</td>\n",
              "      <td>United States</td>\n",
              "      <td>1.80</td>\n",
              "      <td>1745</td>\n",
              "    </tr>\n",
              "    <tr>\n",
              "      <th>15110</th>\n",
              "      <td>Chicago</td>\n",
              "      <td>United States</td>\n",
              "      <td>NaN</td>\n",
              "      <td>1746</td>\n",
              "    </tr>\n",
              "    <tr>\n",
              "      <th>15111</th>\n",
              "      <td>Chicago</td>\n",
              "      <td>United States</td>\n",
              "      <td>NaN</td>\n",
              "      <td>1747</td>\n",
              "    </tr>\n",
              "  </tbody>\n",
              "</table>\n",
              "</div>"
            ],
            "text/plain": [
              "          city        country  avg_temp  year\n",
              "15107  Chicago  United States      5.44  1743\n",
              "15108  Chicago  United States     11.73  1744\n",
              "15109  Chicago  United States      1.80  1745\n",
              "15110  Chicago  United States       NaN  1746\n",
              "15111  Chicago  United States       NaN  1747"
            ]
          },
          "metadata": {
            "tags": []
          },
          "execution_count": 2
        }
      ]
    },
    {
      "cell_type": "code",
      "metadata": {
        "id": "IaRAo5LRozEe",
        "colab": {
          "base_uri": "https://localhost:8080/",
          "height": 194
        },
        "outputId": "572c8400-e2ec-4030-d8c7-c5986387bf49"
      },
      "source": [
        "global_weather = pd.read_csv('https://raw.githubusercontent.com/freedom-780/Weather_trends/b4066594b64afa00050fffdfc4995868d2f36ed1/global_data.csv')\r\n",
        "global_weather.head()"
      ],
      "execution_count": 3,
      "outputs": [
        {
          "output_type": "execute_result",
          "data": {
            "text/html": [
              "<div>\n",
              "<style scoped>\n",
              "    .dataframe tbody tr th:only-of-type {\n",
              "        vertical-align: middle;\n",
              "    }\n",
              "\n",
              "    .dataframe tbody tr th {\n",
              "        vertical-align: top;\n",
              "    }\n",
              "\n",
              "    .dataframe thead th {\n",
              "        text-align: right;\n",
              "    }\n",
              "</style>\n",
              "<table border=\"1\" class=\"dataframe\">\n",
              "  <thead>\n",
              "    <tr style=\"text-align: right;\">\n",
              "      <th></th>\n",
              "      <th>avg_temp</th>\n",
              "      <th>year</th>\n",
              "    </tr>\n",
              "  </thead>\n",
              "  <tbody>\n",
              "    <tr>\n",
              "      <th>0</th>\n",
              "      <td>8.72</td>\n",
              "      <td>1750</td>\n",
              "    </tr>\n",
              "    <tr>\n",
              "      <th>1</th>\n",
              "      <td>7.98</td>\n",
              "      <td>1751</td>\n",
              "    </tr>\n",
              "    <tr>\n",
              "      <th>2</th>\n",
              "      <td>5.78</td>\n",
              "      <td>1752</td>\n",
              "    </tr>\n",
              "    <tr>\n",
              "      <th>3</th>\n",
              "      <td>8.39</td>\n",
              "      <td>1753</td>\n",
              "    </tr>\n",
              "    <tr>\n",
              "      <th>4</th>\n",
              "      <td>8.47</td>\n",
              "      <td>1754</td>\n",
              "    </tr>\n",
              "  </tbody>\n",
              "</table>\n",
              "</div>"
            ],
            "text/plain": [
              "   avg_temp  year\n",
              "0      8.72  1750\n",
              "1      7.98  1751\n",
              "2      5.78  1752\n",
              "3      8.39  1753\n",
              "4      8.47  1754"
            ]
          },
          "metadata": {
            "tags": []
          },
          "execution_count": 3
        }
      ]
    },
    {
      "cell_type": "markdown",
      "metadata": {
        "id": "ZQCpNyp5HtxP"
      },
      "source": [
        "\r\n",
        "# Exploratory Data Analysis"
      ]
    },
    {
      "cell_type": "markdown",
      "metadata": {
        "id": "efGY0P5BuonC"
      },
      "source": [
        "check for null values "
      ]
    },
    {
      "cell_type": "code",
      "metadata": {
        "colab": {
          "base_uri": "https://localhost:8080/"
        },
        "id": "NJAWU2A5IDsZ",
        "outputId": "db2515f5-331e-434e-9e78-f5e1a4b865fc"
      },
      "source": [
        "chicago_weather.isnull().sum()"
      ],
      "execution_count": 4,
      "outputs": [
        {
          "output_type": "execute_result",
          "data": {
            "text/plain": [
              "city        0\n",
              "country     0\n",
              "avg_temp    4\n",
              "year        0\n",
              "dtype: int64"
            ]
          },
          "metadata": {
            "tags": []
          },
          "execution_count": 4
        }
      ]
    },
    {
      "cell_type": "markdown",
      "metadata": {
        "id": "Phem4P-uZIFF"
      },
      "source": [
        "fill the NA with previous values for the Chicago trend file\r\n",
        "and double check if there still are null values"
      ]
    },
    {
      "cell_type": "code",
      "metadata": {
        "colab": {
          "base_uri": "https://localhost:8080/"
        },
        "id": "cPplyQ-DZPS_",
        "outputId": "c535542f-327e-4094-cc30-4b0399ab746d"
      },
      "source": [
        "chicago_weather_fill = chicago_weather.fillna(method='ffill')\r\n",
        "chicago_weather_fill.isnull().sum()"
      ],
      "execution_count": 5,
      "outputs": [
        {
          "output_type": "execute_result",
          "data": {
            "text/plain": [
              "city        0\n",
              "country     0\n",
              "avg_temp    0\n",
              "year        0\n",
              "dtype: int64"
            ]
          },
          "metadata": {
            "tags": []
          },
          "execution_count": 5
        }
      ]
    },
    {
      "cell_type": "code",
      "metadata": {
        "colab": {
          "base_uri": "https://localhost:8080/"
        },
        "id": "YhTc2wKTO_S1",
        "outputId": "7ab0deae-43cb-4a8f-d12d-a5c488f83f25"
      },
      "source": [
        "global_weather.isnull().sum()"
      ],
      "execution_count": 6,
      "outputs": [
        {
          "output_type": "execute_result",
          "data": {
            "text/plain": [
              "avg_temp    0\n",
              "year        0\n",
              "dtype: int64"
            ]
          },
          "metadata": {
            "tags": []
          },
          "execution_count": 6
        }
      ]
    },
    {
      "cell_type": "markdown",
      "metadata": {
        "id": "aE11aTmIaMHO"
      },
      "source": [
        "Initial Plot of data without moving averages"
      ]
    },
    {
      "cell_type": "code",
      "metadata": {
        "colab": {
          "base_uri": "https://localhost:8080/",
          "height": 401
        },
        "id": "Bqt1RhWldrwm",
        "outputId": "38fb675a-cfc0-48f0-ed8c-1eef06ff2159"
      },
      "source": [
        "sns.set_style(\"darkgrid\") \r\n",
        "sns.relplot(x=\"year\", y=\"avg_temp\", kind=\"line\", data=chicago_weather_fill)\r\n"
      ],
      "execution_count": 19,
      "outputs": [
        {
          "output_type": "execute_result",
          "data": {
            "text/plain": [
              "<seaborn.axisgrid.FacetGrid at 0x7f9b932f3ef0>"
            ]
          },
          "metadata": {
            "tags": []
          },
          "execution_count": 19
        },
        {
          "output_type": "display_data",
          "data": {
            "image/png": "[encoded data removed]",
            "text/plain": [
              "<Figure size 360x360 with 1 Axes>"
            ]
          },
          "metadata": {
            "tags": []
          }
        }
      ]
    },
    {
      "cell_type": "code",
      "metadata": {
        "colab": {
          "base_uri": "https://localhost:8080/",
          "height": 401
        },
        "id": "NtcC6o84drbo",
        "outputId": "c65b1d1f-9b09-4de3-f59b-61bb093e6a0f"
      },
      "source": [
        "\r\n",
        "sns.relplot(x=\"year\", y=\"avg_temp\", kind=\"line\", data=global_weather)\r\n",
        "\r\n"
      ],
      "execution_count": 18,
      "outputs": [
        {
          "output_type": "execute_result",
          "data": {
            "text/plain": [
              "<seaborn.axisgrid.FacetGrid at 0x7f9b92f66978>"
            ]
          },
          "metadata": {
            "tags": []
          },
          "execution_count": 18
        },
        {
          "output_type": "display_data",
          "data": {
            "image/png": "[encoded data removed]",
            "text/plain": [
              "<Figure size 360x360 with 1 Axes>"
            ]
          },
          "metadata": {
            "tags": []
          }
        }
      ]
    },
    {
      "cell_type": "markdown",
      "metadata": {
        "id": "BgzUqBZ2vVHr"
      },
      "source": [
        "# Calculate the Moving Average of Data and plot "
      ]
    },
    {
      "cell_type": "markdown",
      "metadata": {
        "id": "K616Gmk0R-I_"
      },
      "source": [
        "Use avg_temp.rolling().mean() methods to calcuate the average mean\r\n",
        "for chicago and global weather trends "
      ]
    },
    {
      "cell_type": "code",
      "metadata": {
        "colab": {
          "base_uri": "https://localhost:8080/",
          "height": 487
        },
        "id": "XQxGq1AFvkRM",
        "outputId": "e041f517-9456-45d4-b40f-b4f2ea186147"
      },
      "source": [
        "chicago_weather_fill[ '14year_rolling_avg' ] = chicago_weather_fill.avg_temp.rolling( 14).mean()\r\n",
        "chicago_weather_fill.head(15)"
      ],
      "execution_count": 9,
      "outputs": [
        {
          "output_type": "execute_result",
          "data": {
            "text/html": [
              "<div>\n",
              "<style scoped>\n",
              "    .dataframe tbody tr th:only-of-type {\n",
              "        vertical-align: middle;\n",
              "    }\n",
              "\n",
              "    .dataframe tbody tr th {\n",
              "        vertical-align: top;\n",
              "    }\n",
              "\n",
              "    .dataframe thead th {\n",
              "        text-align: right;\n",
              "    }\n",
              "</style>\n",
              "<table border=\"1\" class=\"dataframe\">\n",
              "  <thead>\n",
              "    <tr style=\"text-align: right;\">\n",
              "      <th></th>\n",
              "      <th>city</th>\n",
              "      <th>country</th>\n",
              "      <th>avg_temp</th>\n",
              "      <th>year</th>\n",
              "      <th>14year_rolling_avg</th>\n",
              "    </tr>\n",
              "  </thead>\n",
              "  <tbody>\n",
              "    <tr>\n",
              "      <th>15107</th>\n",
              "      <td>Chicago</td>\n",
              "      <td>United States</td>\n",
              "      <td>5.44</td>\n",
              "      <td>1743</td>\n",
              "      <td>NaN</td>\n",
              "    </tr>\n",
              "    <tr>\n",
              "      <th>15108</th>\n",
              "      <td>Chicago</td>\n",
              "      <td>United States</td>\n",
              "      <td>11.73</td>\n",
              "      <td>1744</td>\n",
              "      <td>NaN</td>\n",
              "    </tr>\n",
              "    <tr>\n",
              "      <th>15109</th>\n",
              "      <td>Chicago</td>\n",
              "      <td>United States</td>\n",
              "      <td>1.80</td>\n",
              "      <td>1745</td>\n",
              "      <td>NaN</td>\n",
              "    </tr>\n",
              "    <tr>\n",
              "      <th>15110</th>\n",
              "      <td>Chicago</td>\n",
              "      <td>United States</td>\n",
              "      <td>1.80</td>\n",
              "      <td>1746</td>\n",
              "      <td>NaN</td>\n",
              "    </tr>\n",
              "    <tr>\n",
              "      <th>15111</th>\n",
              "      <td>Chicago</td>\n",
              "      <td>United States</td>\n",
              "      <td>1.80</td>\n",
              "      <td>1747</td>\n",
              "      <td>NaN</td>\n",
              "    </tr>\n",
              "    <tr>\n",
              "      <th>15112</th>\n",
              "      <td>Chicago</td>\n",
              "      <td>United States</td>\n",
              "      <td>1.80</td>\n",
              "      <td>1748</td>\n",
              "      <td>NaN</td>\n",
              "    </tr>\n",
              "    <tr>\n",
              "      <th>15113</th>\n",
              "      <td>Chicago</td>\n",
              "      <td>United States</td>\n",
              "      <td>1.80</td>\n",
              "      <td>1749</td>\n",
              "      <td>NaN</td>\n",
              "    </tr>\n",
              "    <tr>\n",
              "      <th>15114</th>\n",
              "      <td>Chicago</td>\n",
              "      <td>United States</td>\n",
              "      <td>10.49</td>\n",
              "      <td>1750</td>\n",
              "      <td>NaN</td>\n",
              "    </tr>\n",
              "    <tr>\n",
              "      <th>15115</th>\n",
              "      <td>Chicago</td>\n",
              "      <td>United States</td>\n",
              "      <td>11.19</td>\n",
              "      <td>1751</td>\n",
              "      <td>NaN</td>\n",
              "    </tr>\n",
              "    <tr>\n",
              "      <th>15116</th>\n",
              "      <td>Chicago</td>\n",
              "      <td>United States</td>\n",
              "      <td>4.50</td>\n",
              "      <td>1752</td>\n",
              "      <td>NaN</td>\n",
              "    </tr>\n",
              "    <tr>\n",
              "      <th>15117</th>\n",
              "      <td>Chicago</td>\n",
              "      <td>United States</td>\n",
              "      <td>10.04</td>\n",
              "      <td>1753</td>\n",
              "      <td>NaN</td>\n",
              "    </tr>\n",
              "    <tr>\n",
              "      <th>15118</th>\n",
              "      <td>Chicago</td>\n",
              "      <td>United States</td>\n",
              "      <td>10.64</td>\n",
              "      <td>1754</td>\n",
              "      <td>NaN</td>\n",
              "    </tr>\n",
              "    <tr>\n",
              "      <th>15119</th>\n",
              "      <td>Chicago</td>\n",
              "      <td>United States</td>\n",
              "      <td>7.41</td>\n",
              "      <td>1755</td>\n",
              "      <td>NaN</td>\n",
              "    </tr>\n",
              "    <tr>\n",
              "      <th>15120</th>\n",
              "      <td>Chicago</td>\n",
              "      <td>United States</td>\n",
              "      <td>11.15</td>\n",
              "      <td>1756</td>\n",
              "      <td>6.542143</td>\n",
              "    </tr>\n",
              "    <tr>\n",
              "      <th>15121</th>\n",
              "      <td>Chicago</td>\n",
              "      <td>United States</td>\n",
              "      <td>9.50</td>\n",
              "      <td>1757</td>\n",
              "      <td>6.832143</td>\n",
              "    </tr>\n",
              "  </tbody>\n",
              "</table>\n",
              "</div>"
            ],
            "text/plain": [
              "          city        country  avg_temp  year  14year_rolling_avg\n",
              "15107  Chicago  United States      5.44  1743                 NaN\n",
              "15108  Chicago  United States     11.73  1744                 NaN\n",
              "15109  Chicago  United States      1.80  1745                 NaN\n",
              "15110  Chicago  United States      1.80  1746                 NaN\n",
              "15111  Chicago  United States      1.80  1747                 NaN\n",
              "15112  Chicago  United States      1.80  1748                 NaN\n",
              "15113  Chicago  United States      1.80  1749                 NaN\n",
              "15114  Chicago  United States     10.49  1750                 NaN\n",
              "15115  Chicago  United States     11.19  1751                 NaN\n",
              "15116  Chicago  United States      4.50  1752                 NaN\n",
              "15117  Chicago  United States     10.04  1753                 NaN\n",
              "15118  Chicago  United States     10.64  1754                 NaN\n",
              "15119  Chicago  United States      7.41  1755                 NaN\n",
              "15120  Chicago  United States     11.15  1756            6.542143\n",
              "15121  Chicago  United States      9.50  1757            6.832143"
            ]
          },
          "metadata": {
            "tags": []
          },
          "execution_count": 9
        }
      ]
    },
    {
      "cell_type": "markdown",
      "metadata": {
        "id": "W7A1Zgx2RJi3"
      },
      "source": [
        "plot moving average weather trends"
      ]
    },
    {
      "cell_type": "code",
      "metadata": {
        "colab": {
          "base_uri": "https://localhost:8080/",
          "height": 391
        },
        "id": "DrETEikVxFqU",
        "outputId": "2a7c4ad6-049b-491f-fcce-f73727c91882"
      },
      "source": [
        "sns.relplot(x=\"year\", y='14year_rolling_avg', kind=\"line\", data=chicago_weather_fill).fig.autofmt_xdate()\r\n",
        "plt.xlabel(\"year\", size=16)\r\n",
        "plt.ylabel(\"Average Temperature in Celsius\", size=16)\r\n",
        "plt.title(\"Chicago Weather Trends\", size=16)\r\n",
        "\r\n"
      ],
      "execution_count": 16,
      "outputs": [
        {
          "output_type": "execute_result",
          "data": {
            "text/plain": [
              "Text(0.5, 1.0, 'Chicago Weather Trends')"
            ]
          },
          "metadata": {
            "tags": []
          },
          "execution_count": 16
        },
        {
          "output_type": "display_data",
          "data": {
            "image/png": "[encoded data removed]",
            "text/plain": [
              "<Figure size 360x360 with 1 Axes>"
            ]
          },
          "metadata": {
            "tags": []
          }
        }
      ]
    },
    {
      "cell_type": "code",
      "metadata": {
        "id": "jqmC2QHU2k6R"
      },
      "source": [
        "global_weather['14year_rolling_avg_global'] = global_weather.avg_temp.rolling(14).mean() "
      ],
      "execution_count": 11,
      "outputs": []
    },
    {
      "cell_type": "code",
      "metadata": {
        "colab": {
          "base_uri": "https://localhost:8080/",
          "height": 391
        },
        "id": "CoCCuarHjaVv",
        "outputId": "74530253-8eea-4d10-8b6d-a63f25f1f4fc"
      },
      "source": [
        "sns.relplot(x=\"year\", y='14year_rolling_avg_global', kind=\"line\", data=global_weather).fig.autofmt_xdate()\r\n",
        "plt.xlabel(\"year\", size=16)\r\n",
        "plt.ylabel(\"Average Temperature in Celsius\", size=16)\r\n",
        "plt.title(\"Global Weather Trends\", size=16)\r\n"
      ],
      "execution_count": 17,
      "outputs": [
        {
          "output_type": "execute_result",
          "data": {
            "text/plain": [
              "Text(0.5, 1.0, 'Global Weather Trends')"
            ]
          },
          "metadata": {
            "tags": []
          },
          "execution_count": 17
        },
        {
          "output_type": "display_data",
          "data": {
            "image/png": "[encoded data removed]",
            "text/plain": [
              "<Figure size 360x360 with 1 Axes>"
            ]
          },
          "metadata": {
            "tags": []
          }
        }
      ]
    },
    {
      "cell_type": "markdown",
      "metadata": {
        "id": "ACk8YAl2CgPn"
      },
      "source": [
        "# Observations"
      ]
    },
    {
      "cell_type": "markdown",
      "metadata": {
        "id": "wOhBsxofCpBp"
      },
      "source": [
        "Observations:\r\n",
        "\r\n",
        "1.   Both Graphs show the same drop in temperature between 1800 and 1850. \r\n",
        "2.   The Chicago weather trends graph has a steep rise(slope) in temperature around 1850 unlike the global trend graph.\r\n",
        "3.   They seem to be similar graphs(they both have an increasing trend overall) except that the one in Chicago is at 10C and the other is at 8 degrees.\r\n",
        "4.   Both graphs show around the 2000s or eariler a steep raise in trend that seems to be continuing.\r\n",
        "\r\n",
        "\r\n"
      ]
    }
  ]
}