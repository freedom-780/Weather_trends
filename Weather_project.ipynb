{
  "nbformat": 4,
  "nbformat_minor": 0,
  "metadata": {
    "colab": {
      "name": "Weather project.ipynb",
      "provenance": [],
      "toc_visible": true,
      "authorship_tag": "ABX9TyP/hULJeLIJ7+0dlpXsbFVC",
      "include_colab_link": true
    },
    "kernelspec": {
      "name": "python3",
      "display_name": "Python 3"
    }
  },
  "cells": [
    {
      "cell_type": "markdown",
      "metadata": {
        "id": "view-in-github",
        "colab_type": "text"
      },
      "source": [
        "<a href=\"https://colab.research.google.com/github/freedom-780/Weather_trends/blob/main/Weather_project.ipynb\" target=\"_parent\"><img src=\"https://colab.research.google.com/assets/colab-badge.svg\" alt=\"Open In Colab\"/></a>"
      ]
    },
    {
      "cell_type": "markdown",
      "metadata": {
        "id": "84RV9dehADCh"
      },
      "source": [
        "# Ingest "
      ]
    },
    {
      "cell_type": "markdown",
      "metadata": {
        "id": "dIvV8MgCKSIc"
      },
      "source": [
        "import csv files from Github repository "
      ]
    },
    {
      "cell_type": "code",
      "metadata": {
        "colab": {
          "base_uri": "https://localhost:8080/",
          "height": 195
        },
        "id": "uKs8c8aNnx0g",
        "outputId": "82be1488-c4d6-433d-9eb6-c4fe654fe27b"
      },
      "source": [
        "import pandas as pd\r\n",
        "city_weather = \"https://raw.githubusercontent.com/freedom-780/Weather_trends/b4066594b64afa00050fffdfc4995868d2f36ed1/city_data.csv\"\r\n",
        "city_weather = pd.read_csv(city_weather)\r\n",
        "city_weather.head()"
      ],
      "execution_count": 11,
      "outputs": [
        {
          "output_type": "execute_result",
          "data": {
            "text/html": [
              "<div>\n",
              "<style scoped>\n",
              "    .dataframe tbody tr th:only-of-type {\n",
              "        vertical-align: middle;\n",
              "    }\n",
              "\n",
              "    .dataframe tbody tr th {\n",
              "        vertical-align: top;\n",
              "    }\n",
              "\n",
              "    .dataframe thead th {\n",
              "        text-align: right;\n",
              "    }\n",
              "</style>\n",
              "<table border=\"1\" class=\"dataframe\">\n",
              "  <thead>\n",
              "    <tr style=\"text-align: right;\">\n",
              "      <th></th>\n",
              "      <th>city</th>\n",
              "      <th>country</th>\n",
              "      <th>avg_temp</th>\n",
              "      <th>year</th>\n",
              "    </tr>\n",
              "  </thead>\n",
              "  <tbody>\n",
              "    <tr>\n",
              "      <th>0</th>\n",
              "      <td>Abidjan</td>\n",
              "      <td>Côte D'Ivoire</td>\n",
              "      <td>25.58</td>\n",
              "      <td>1849</td>\n",
              "    </tr>\n",
              "    <tr>\n",
              "      <th>1</th>\n",
              "      <td>Abidjan</td>\n",
              "      <td>Côte D'Ivoire</td>\n",
              "      <td>25.52</td>\n",
              "      <td>1850</td>\n",
              "    </tr>\n",
              "    <tr>\n",
              "      <th>2</th>\n",
              "      <td>Abidjan</td>\n",
              "      <td>Côte D'Ivoire</td>\n",
              "      <td>25.67</td>\n",
              "      <td>1851</td>\n",
              "    </tr>\n",
              "    <tr>\n",
              "      <th>3</th>\n",
              "      <td>Abidjan</td>\n",
              "      <td>Côte D'Ivoire</td>\n",
              "      <td>NaN</td>\n",
              "      <td>1852</td>\n",
              "    </tr>\n",
              "    <tr>\n",
              "      <th>4</th>\n",
              "      <td>Abidjan</td>\n",
              "      <td>Côte D'Ivoire</td>\n",
              "      <td>NaN</td>\n",
              "      <td>1853</td>\n",
              "    </tr>\n",
              "  </tbody>\n",
              "</table>\n",
              "</div>"
            ],
            "text/plain": [
              "      city        country  avg_temp  year\n",
              "0  Abidjan  Côte D'Ivoire     25.58  1849\n",
              "1  Abidjan  Côte D'Ivoire     25.52  1850\n",
              "2  Abidjan  Côte D'Ivoire     25.67  1851\n",
              "3  Abidjan  Côte D'Ivoire       NaN  1852\n",
              "4  Abidjan  Côte D'Ivoire       NaN  1853"
            ]
          },
          "metadata": {
            "tags": []
          },
          "execution_count": 11
        }
      ]
    },
    {
      "cell_type": "code",
      "metadata": {
        "id": "Ho3PWRXPKYGe"
      },
      "source": [
        ""
      ],
      "execution_count": 11,
      "outputs": []
    },
    {
      "cell_type": "code",
      "metadata": {
        "colab": {
          "base_uri": "https://localhost:8080/",
          "height": 195
        },
        "id": "-KU7xouTqNoP",
        "outputId": "843a37cd-4bba-4fe2-df43-dd1d425227b8"
      },
      "source": [
        " chicago_weather = city_weather[city_weather[\"city\"] == \"Chicago\"]\r\n",
        "chicago_weather.head()"
      ],
      "execution_count": 12,
      "outputs": [
        {
          "output_type": "execute_result",
          "data": {
            "text/html": [
              "<div>\n",
              "<style scoped>\n",
              "    .dataframe tbody tr th:only-of-type {\n",
              "        vertical-align: middle;\n",
              "    }\n",
              "\n",
              "    .dataframe tbody tr th {\n",
              "        vertical-align: top;\n",
              "    }\n",
              "\n",
              "    .dataframe thead th {\n",
              "        text-align: right;\n",
              "    }\n",
              "</style>\n",
              "<table border=\"1\" class=\"dataframe\">\n",
              "  <thead>\n",
              "    <tr style=\"text-align: right;\">\n",
              "      <th></th>\n",
              "      <th>city</th>\n",
              "      <th>country</th>\n",
              "      <th>avg_temp</th>\n",
              "      <th>year</th>\n",
              "    </tr>\n",
              "  </thead>\n",
              "  <tbody>\n",
              "    <tr>\n",
              "      <th>15107</th>\n",
              "      <td>Chicago</td>\n",
              "      <td>United States</td>\n",
              "      <td>5.44</td>\n",
              "      <td>1743</td>\n",
              "    </tr>\n",
              "    <tr>\n",
              "      <th>15108</th>\n",
              "      <td>Chicago</td>\n",
              "      <td>United States</td>\n",
              "      <td>11.73</td>\n",
              "      <td>1744</td>\n",
              "    </tr>\n",
              "    <tr>\n",
              "      <th>15109</th>\n",
              "      <td>Chicago</td>\n",
              "      <td>United States</td>\n",
              "      <td>1.80</td>\n",
              "      <td>1745</td>\n",
              "    </tr>\n",
              "    <tr>\n",
              "      <th>15110</th>\n",
              "      <td>Chicago</td>\n",
              "      <td>United States</td>\n",
              "      <td>NaN</td>\n",
              "      <td>1746</td>\n",
              "    </tr>\n",
              "    <tr>\n",
              "      <th>15111</th>\n",
              "      <td>Chicago</td>\n",
              "      <td>United States</td>\n",
              "      <td>NaN</td>\n",
              "      <td>1747</td>\n",
              "    </tr>\n",
              "  </tbody>\n",
              "</table>\n",
              "</div>"
            ],
            "text/plain": [
              "          city        country  avg_temp  year\n",
              "15107  Chicago  United States      5.44  1743\n",
              "15108  Chicago  United States     11.73  1744\n",
              "15109  Chicago  United States      1.80  1745\n",
              "15110  Chicago  United States       NaN  1746\n",
              "15111  Chicago  United States       NaN  1747"
            ]
          },
          "metadata": {
            "tags": []
          },
          "execution_count": 12
        }
      ]
    },
    {
      "cell_type": "code",
      "metadata": {
        "id": "m9O7xozst54H"
      },
      "source": [
        ""
      ],
      "execution_count": 12,
      "outputs": []
    },
    {
      "cell_type": "code",
      "metadata": {
        "id": "IaRAo5LRozEe",
        "colab": {
          "base_uri": "https://localhost:8080/",
          "height": 195
        },
        "outputId": "b4f43e46-a31c-4b1a-b7a6-b482d9a5ae24"
      },
      "source": [
        "global_weather = pd.read_csv('https://raw.githubusercontent.com/freedom-780/Weather_trends/b4066594b64afa00050fffdfc4995868d2f36ed1/global_data.csv')\r\n",
        "global_weather.head()"
      ],
      "execution_count": 13,
      "outputs": [
        {
          "output_type": "execute_result",
          "data": {
            "text/html": [
              "<div>\n",
              "<style scoped>\n",
              "    .dataframe tbody tr th:only-of-type {\n",
              "        vertical-align: middle;\n",
              "    }\n",
              "\n",
              "    .dataframe tbody tr th {\n",
              "        vertical-align: top;\n",
              "    }\n",
              "\n",
              "    .dataframe thead th {\n",
              "        text-align: right;\n",
              "    }\n",
              "</style>\n",
              "<table border=\"1\" class=\"dataframe\">\n",
              "  <thead>\n",
              "    <tr style=\"text-align: right;\">\n",
              "      <th></th>\n",
              "      <th>avg_temp</th>\n",
              "      <th>year</th>\n",
              "    </tr>\n",
              "  </thead>\n",
              "  <tbody>\n",
              "    <tr>\n",
              "      <th>0</th>\n",
              "      <td>8.72</td>\n",
              "      <td>1750</td>\n",
              "    </tr>\n",
              "    <tr>\n",
              "      <th>1</th>\n",
              "      <td>7.98</td>\n",
              "      <td>1751</td>\n",
              "    </tr>\n",
              "    <tr>\n",
              "      <th>2</th>\n",
              "      <td>5.78</td>\n",
              "      <td>1752</td>\n",
              "    </tr>\n",
              "    <tr>\n",
              "      <th>3</th>\n",
              "      <td>8.39</td>\n",
              "      <td>1753</td>\n",
              "    </tr>\n",
              "    <tr>\n",
              "      <th>4</th>\n",
              "      <td>8.47</td>\n",
              "      <td>1754</td>\n",
              "    </tr>\n",
              "  </tbody>\n",
              "</table>\n",
              "</div>"
            ],
            "text/plain": [
              "   avg_temp  year\n",
              "0      8.72  1750\n",
              "1      7.98  1751\n",
              "2      5.78  1752\n",
              "3      8.39  1753\n",
              "4      8.47  1754"
            ]
          },
          "metadata": {
            "tags": []
          },
          "execution_count": 13
        }
      ]
    },
    {
      "cell_type": "code",
      "metadata": {
        "id": "I0Mo33HhOIxx"
      },
      "source": [
        ""
      ],
      "execution_count": 13,
      "outputs": []
    },
    {
      "cell_type": "markdown",
      "metadata": {
        "id": "tLdl_ORiKZ9W"
      },
      "source": [
        ""
      ]
    },
    {
      "cell_type": "markdown",
      "metadata": {
        "id": "ZQCpNyp5HtxP"
      },
      "source": [
        "\r\n",
        "# Exploratory Data Analysis"
      ]
    },
    {
      "cell_type": "markdown",
      "metadata": {
        "id": "PBhEXNq4H_KM"
      },
      "source": [
        ""
      ]
    },
    {
      "cell_type": "markdown",
      "metadata": {
        "id": "efGY0P5BuonC"
      },
      "source": [
        "check for null values "
      ]
    },
    {
      "cell_type": "code",
      "metadata": {
        "id": "oBbY2U4GOyIt"
      },
      "source": [
        ""
      ],
      "execution_count": 13,
      "outputs": []
    },
    {
      "cell_type": "code",
      "metadata": {
        "colab": {
          "base_uri": "https://localhost:8080/"
        },
        "id": "NJAWU2A5IDsZ",
        "outputId": "9fa13259-e302-42db-8e94-cc9e4017ee2e"
      },
      "source": [
        "chicago_weather.isnull().sum()"
      ],
      "execution_count": 14,
      "outputs": [
        {
          "output_type": "execute_result",
          "data": {
            "text/plain": [
              "city        0\n",
              "country     0\n",
              "avg_temp    4\n",
              "year        0\n",
              "dtype: int64"
            ]
          },
          "metadata": {
            "tags": []
          },
          "execution_count": 14
        }
      ]
    },
    {
      "cell_type": "markdown",
      "metadata": {
        "id": "Phem4P-uZIFF"
      },
      "source": [
        "fill the NA with previous values for the Chicago address"
      ]
    },
    {
      "cell_type": "code",
      "metadata": {
        "colab": {
          "base_uri": "https://localhost:8080/"
        },
        "id": "cPplyQ-DZPS_",
        "outputId": "00fda1bf-049f-4e5f-87cf-6a9af3dd2b37"
      },
      "source": [
        "chicago_weather_fill = chicago_weather.fillna(method='ffill')\r\n",
        "chicago_weather_fill.isnull().sum()"
      ],
      "execution_count": 15,
      "outputs": [
        {
          "output_type": "execute_result",
          "data": {
            "text/plain": [
              "city        0\n",
              "country     0\n",
              "avg_temp    0\n",
              "year        0\n",
              "dtype: int64"
            ]
          },
          "metadata": {
            "tags": []
          },
          "execution_count": 15
        }
      ]
    },
    {
      "cell_type": "code",
      "metadata": {
        "colab": {
          "base_uri": "https://localhost:8080/"
        },
        "id": "YhTc2wKTO_S1",
        "outputId": "e36f70bf-3ff2-4cd1-ed45-49cebe098e9f"
      },
      "source": [
        "global_weather.isnull().sum()"
      ],
      "execution_count": 16,
      "outputs": [
        {
          "output_type": "execute_result",
          "data": {
            "text/plain": [
              "avg_temp    0\n",
              "year        0\n",
              "dtype: int64"
            ]
          },
          "metadata": {
            "tags": []
          },
          "execution_count": 16
        }
      ]
    },
    {
      "cell_type": "markdown",
      "metadata": {
        "id": "aE11aTmIaMHO"
      },
      "source": [
        "Initial Plot "
      ]
    },
    {
      "cell_type": "code",
      "metadata": {
        "colab": {
          "base_uri": "https://localhost:8080/",
          "height": 350
        },
        "id": "Bqt1RhWldrwm",
        "outputId": "90461ba3-43a3-436a-920c-50184b13e7bd"
      },
      "source": [
        "import seaborn as sns \r\n",
        "g = sns.relplot(x=\"year\", y=\"avg_temp\", kind=\"line\", data=chicago_weather_fill)\r\n",
        "g.fig.autofmt_xdate()\r\n"
      ],
      "execution_count": 17,
      "outputs": [
        {
          "output_type": "display_data",
          "data": {
            "image/png": "[encoded data removed]",
            "text/plain": [
              "<Figure size 360x360 with 1 Axes>"
            ]
          },
          "metadata": {
            "tags": [],
            "needs_background": "light"
          }
        }
      ]
    },
    {
      "cell_type": "code",
      "metadata": {
        "colab": {
          "base_uri": "https://localhost:8080/",
          "height": 351
        },
        "id": "NtcC6o84drbo",
        "outputId": "3f23687f-9b8d-4027-f2ff-964b768e09c0"
      },
      "source": [
        "\r\n",
        "f = sns.relplot(x=\"year\", y=\"avg_temp\", kind=\"line\", data=global_weather)\r\n",
        "f.fig.autofmt_xdate()\r\n"
      ],
      "execution_count": 18,
      "outputs": [
        {
          "output_type": "display_data",
          "data": {
            "image/png": "[encoded data removed]",
            "text/plain": [
              "<Figure size 360x360 with 1 Axes>"
            ]
          },
          "metadata": {
            "tags": [],
            "needs_background": "light"
          }
        }
      ]
    },
    {
      "cell_type": "markdown",
      "metadata": {
        "id": "BgzUqBZ2vVHr"
      },
      "source": [
        "# Calculate the Moving Average of Data and plot "
      ]
    },
    {
      "cell_type": "code",
      "metadata": {
        "colab": {
          "base_uri": "https://localhost:8080/",
          "height": 491
        },
        "id": "XQxGq1AFvkRM",
        "outputId": "a06c297d-56ae-4f20-83d5-c494e01b840c"
      },
      "source": [
        "chicago_weather_fill[ '7day_rolling_avg' ] = chicago_weather_fill.avg_temp.rolling( 14).mean() \r\n",
        "chicago_weather_fill.head(15)"
      ],
      "execution_count": 19,
      "outputs": [
        {
          "output_type": "execute_result",
          "data": {
            "text/html": [
              "<div>\n",
              "<style scoped>\n",
              "    .dataframe tbody tr th:only-of-type {\n",
              "        vertical-align: middle;\n",
              "    }\n",
              "\n",
              "    .dataframe tbody tr th {\n",
              "        vertical-align: top;\n",
              "    }\n",
              "\n",
              "    .dataframe thead th {\n",
              "        text-align: right;\n",
              "    }\n",
              "</style>\n",
              "<table border=\"1\" class=\"dataframe\">\n",
              "  <thead>\n",
              "    <tr style=\"text-align: right;\">\n",
              "      <th></th>\n",
              "      <th>city</th>\n",
              "      <th>country</th>\n",
              "      <th>avg_temp</th>\n",
              "      <th>year</th>\n",
              "      <th>7day_rolling_avg</th>\n",
              "    </tr>\n",
              "  </thead>\n",
              "  <tbody>\n",
              "    <tr>\n",
              "      <th>15107</th>\n",
              "      <td>Chicago</td>\n",
              "      <td>United States</td>\n",
              "      <td>5.44</td>\n",
              "      <td>1743</td>\n",
              "      <td>NaN</td>\n",
              "    </tr>\n",
              "    <tr>\n",
              "      <th>15108</th>\n",
              "      <td>Chicago</td>\n",
              "      <td>United States</td>\n",
              "      <td>11.73</td>\n",
              "      <td>1744</td>\n",
              "      <td>NaN</td>\n",
              "    </tr>\n",
              "    <tr>\n",
              "      <th>15109</th>\n",
              "      <td>Chicago</td>\n",
              "      <td>United States</td>\n",
              "      <td>1.80</td>\n",
              "      <td>1745</td>\n",
              "      <td>NaN</td>\n",
              "    </tr>\n",
              "    <tr>\n",
              "      <th>15110</th>\n",
              "      <td>Chicago</td>\n",
              "      <td>United States</td>\n",
              "      <td>1.80</td>\n",
              "      <td>1746</td>\n",
              "      <td>NaN</td>\n",
              "    </tr>\n",
              "    <tr>\n",
              "      <th>15111</th>\n",
              "      <td>Chicago</td>\n",
              "      <td>United States</td>\n",
              "      <td>1.80</td>\n",
              "      <td>1747</td>\n",
              "      <td>NaN</td>\n",
              "    </tr>\n",
              "    <tr>\n",
              "      <th>15112</th>\n",
              "      <td>Chicago</td>\n",
              "      <td>United States</td>\n",
              "      <td>1.80</td>\n",
              "      <td>1748</td>\n",
              "      <td>NaN</td>\n",
              "    </tr>\n",
              "    <tr>\n",
              "      <th>15113</th>\n",
              "      <td>Chicago</td>\n",
              "      <td>United States</td>\n",
              "      <td>1.80</td>\n",
              "      <td>1749</td>\n",
              "      <td>NaN</td>\n",
              "    </tr>\n",
              "    <tr>\n",
              "      <th>15114</th>\n",
              "      <td>Chicago</td>\n",
              "      <td>United States</td>\n",
              "      <td>10.49</td>\n",
              "      <td>1750</td>\n",
              "      <td>NaN</td>\n",
              "    </tr>\n",
              "    <tr>\n",
              "      <th>15115</th>\n",
              "      <td>Chicago</td>\n",
              "      <td>United States</td>\n",
              "      <td>11.19</td>\n",
              "      <td>1751</td>\n",
              "      <td>NaN</td>\n",
              "    </tr>\n",
              "    <tr>\n",
              "      <th>15116</th>\n",
              "      <td>Chicago</td>\n",
              "      <td>United States</td>\n",
              "      <td>4.50</td>\n",
              "      <td>1752</td>\n",
              "      <td>NaN</td>\n",
              "    </tr>\n",
              "    <tr>\n",
              "      <th>15117</th>\n",
              "      <td>Chicago</td>\n",
              "      <td>United States</td>\n",
              "      <td>10.04</td>\n",
              "      <td>1753</td>\n",
              "      <td>NaN</td>\n",
              "    </tr>\n",
              "    <tr>\n",
              "      <th>15118</th>\n",
              "      <td>Chicago</td>\n",
              "      <td>United States</td>\n",
              "      <td>10.64</td>\n",
              "      <td>1754</td>\n",
              "      <td>NaN</td>\n",
              "    </tr>\n",
              "    <tr>\n",
              "      <th>15119</th>\n",
              "      <td>Chicago</td>\n",
              "      <td>United States</td>\n",
              "      <td>7.41</td>\n",
              "      <td>1755</td>\n",
              "      <td>NaN</td>\n",
              "    </tr>\n",
              "    <tr>\n",
              "      <th>15120</th>\n",
              "      <td>Chicago</td>\n",
              "      <td>United States</td>\n",
              "      <td>11.15</td>\n",
              "      <td>1756</td>\n",
              "      <td>6.542143</td>\n",
              "    </tr>\n",
              "    <tr>\n",
              "      <th>15121</th>\n",
              "      <td>Chicago</td>\n",
              "      <td>United States</td>\n",
              "      <td>9.50</td>\n",
              "      <td>1757</td>\n",
              "      <td>6.832143</td>\n",
              "    </tr>\n",
              "  </tbody>\n",
              "</table>\n",
              "</div>"
            ],
            "text/plain": [
              "          city        country  avg_temp  year  7day_rolling_avg\n",
              "15107  Chicago  United States      5.44  1743               NaN\n",
              "15108  Chicago  United States     11.73  1744               NaN\n",
              "15109  Chicago  United States      1.80  1745               NaN\n",
              "15110  Chicago  United States      1.80  1746               NaN\n",
              "15111  Chicago  United States      1.80  1747               NaN\n",
              "15112  Chicago  United States      1.80  1748               NaN\n",
              "15113  Chicago  United States      1.80  1749               NaN\n",
              "15114  Chicago  United States     10.49  1750               NaN\n",
              "15115  Chicago  United States     11.19  1751               NaN\n",
              "15116  Chicago  United States      4.50  1752               NaN\n",
              "15117  Chicago  United States     10.04  1753               NaN\n",
              "15118  Chicago  United States     10.64  1754               NaN\n",
              "15119  Chicago  United States      7.41  1755               NaN\n",
              "15120  Chicago  United States     11.15  1756          6.542143\n",
              "15121  Chicago  United States      9.50  1757          6.832143"
            ]
          },
          "metadata": {
            "tags": []
          },
          "execution_count": 19
        }
      ]
    },
    {
      "cell_type": "code",
      "metadata": {
        "colab": {
          "base_uri": "https://localhost:8080/",
          "height": 350
        },
        "id": "DrETEikVxFqU",
        "outputId": "c8254ed2-99ec-4f0c-ed7d-daa244e11440"
      },
      "source": [
        "f = sns.relplot(x=\"year\", y='7day_rolling_avg', kind=\"line\", data=chicago_weather_fill)\r\n",
        "f.fig.autofmt_xdate()\r\n"
      ],
      "execution_count": 20,
      "outputs": [
        {
          "output_type": "display_data",
          "data": {
            "image/png": "[encoded data removed]",
            "text/plain": [
              "<Figure size 360x360 with 1 Axes>"
            ]
          },
          "metadata": {
            "tags": [],
            "needs_background": "light"
          }
        }
      ]
    },
    {
      "cell_type": "code",
      "metadata": {
        "id": "55P4cfXUTBvx"
      },
      "source": [
        "global_weather[ '7day_rolling_avg' ] = global_weather.avg_temp.rolling(7).mean() \r\n"
      ],
      "execution_count": 21,
      "outputs": []
    },
    {
      "cell_type": "code",
      "metadata": {
        "colab": {
          "base_uri": "https://localhost:8080/",
          "height": 350
        },
        "id": "POxLTstyT8mL",
        "outputId": "7bc666df-57c2-4492-d6c3-0cc65f5772d1"
      },
      "source": [
        "f = sns.relplot(x=\"year\", y='7day_rolling_avg', kind=\"line\", data=global_weather)\r\n",
        "f.fig.autofmt_xdate()"
      ],
      "execution_count": 22,
      "outputs": [
        {
          "output_type": "display_data",
          "data": {
            "image/png": "[encoded data removed]",
            "text/plain": [
              "<Figure size 360x360 with 1 Axes>"
            ]
          },
          "metadata": {
            "tags": [],
            "needs_background": "light"
          }
        }
      ]
    }
  ]
}