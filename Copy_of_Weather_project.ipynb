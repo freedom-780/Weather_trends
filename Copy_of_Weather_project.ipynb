{
  "nbformat": 4,
  "nbformat_minor": 0,
  "metadata": {
    "colab": {
      "name": "Copy of Weather project.ipynb",
      "provenance": [],
      "toc_visible": true,
      "authorship_tag": "ABX9TyP9GCa11fNo64/66Sz6oQ0A",
      "include_colab_link": true
    },
    "kernelspec": {
      "name": "python3",
      "display_name": "Python 3"
    }
  },
  "cells": [
    {
      "cell_type": "markdown",
      "metadata": {
        "id": "view-in-github",
        "colab_type": "text"
      },
      "source": [
        "<a href=\"https://colab.research.google.com/github/freedom-780/Weather_trends/blob/main/Copy_of_Weather_project.ipynb\" target=\"_parent\"><img src=\"https://colab.research.google.com/assets/colab-badge.svg\" alt=\"Open In Colab\"/></a>"
      ]
    },
    {
      "cell_type": "markdown",
      "metadata": {
        "id": "Qr8AjB4FMkvc"
      },
      "source": [
        "#Outline \r\n",
        "\r\n",
        "*   Tools used: Python in a Colab Notebook\r\n",
        "*   Calculated the moving average using avg_temp.rolling().mean()\r\n",
        "*   Used the seaborn library to visualize the trends using a standardline plot. No other considerations were needed in this case\r\n",
        "*   Colab file and data files avaliable at: https://github.com/freedom-780/Weather_trends/blob/main/Weather_project.ipynb\r\n",
        "*  SQL commands used to extract the data: SELECT city, country, avg_temp, year\r\n",
        "  FROM city_data; SELlECT avg_temp, year FROM city_data\r\n",
        "*   CO2 yearly average and growth data files are from: Ed Dlugokencky and Pieter Tans, NOAA/GML (www.esrl.noaa.gov/gmd/ccgg/trends/)\r\n",
        "\r\n",
        "\r\n",
        "\r\n",
        "\r\n",
        "\r\n",
        "\r\n"
      ]
    },
    {
      "cell_type": "markdown",
      "metadata": {
        "id": "84RV9dehADCh"
      },
      "source": [
        "# Import Data from SQL Files and other CSV files \r\n",
        "\r\n",
        "\r\n"
      ]
    },
    {
      "cell_type": "markdown",
      "metadata": {
        "id": "dIvV8MgCKSIc"
      },
      "source": [
        "Import library files and import csv files from Github repository "
      ]
    },
    {
      "cell_type": "code",
      "metadata": {
        "colab": {
          "base_uri": "https://localhost:8080/",
          "height": 197
        },
        "id": "uKs8c8aNnx0g",
        "outputId": "6e84d95d-b7f7-4a8d-8e16-ef53adcf6a8e"
      },
      "source": [
        "import pandas as pd\r\n",
        "import seaborn as sns\r\n",
        "import matplotlib.pyplot as plt\r\n",
        "city_weather = \"https://raw.githubusercontent.com/freedom-780/Weather_trends/b4066594b64afa00050fffdfc4995868d2f36ed1/city_data.csv\"\r\n",
        "city_weather = pd.read_csv(city_weather)\r\n",
        "city_weather.head()"
      ],
      "execution_count": null,
      "outputs": [
        {
          "output_type": "execute_result",
          "data": {
            "text/html": [
              "<div>\n",
              "<style scoped>\n",
              "    .dataframe tbody tr th:only-of-type {\n",
              "        vertical-align: middle;\n",
              "    }\n",
              "\n",
              "    .dataframe tbody tr th {\n",
              "        vertical-align: top;\n",
              "    }\n",
              "\n",
              "    .dataframe thead th {\n",
              "        text-align: right;\n",
              "    }\n",
              "</style>\n",
              "<table border=\"1\" class=\"dataframe\">\n",
              "  <thead>\n",
              "    <tr style=\"text-align: right;\">\n",
              "      <th></th>\n",
              "      <th>city</th>\n",
              "      <th>country</th>\n",
              "      <th>avg_temp</th>\n",
              "      <th>year</th>\n",
              "    </tr>\n",
              "  </thead>\n",
              "  <tbody>\n",
              "    <tr>\n",
              "      <th>0</th>\n",
              "      <td>Abidjan</td>\n",
              "      <td>Côte D'Ivoire</td>\n",
              "      <td>25.58</td>\n",
              "      <td>1849</td>\n",
              "    </tr>\n",
              "    <tr>\n",
              "      <th>1</th>\n",
              "      <td>Abidjan</td>\n",
              "      <td>Côte D'Ivoire</td>\n",
              "      <td>25.52</td>\n",
              "      <td>1850</td>\n",
              "    </tr>\n",
              "    <tr>\n",
              "      <th>2</th>\n",
              "      <td>Abidjan</td>\n",
              "      <td>Côte D'Ivoire</td>\n",
              "      <td>25.67</td>\n",
              "      <td>1851</td>\n",
              "    </tr>\n",
              "    <tr>\n",
              "      <th>3</th>\n",
              "      <td>Abidjan</td>\n",
              "      <td>Côte D'Ivoire</td>\n",
              "      <td>NaN</td>\n",
              "      <td>1852</td>\n",
              "    </tr>\n",
              "    <tr>\n",
              "      <th>4</th>\n",
              "      <td>Abidjan</td>\n",
              "      <td>Côte D'Ivoire</td>\n",
              "      <td>NaN</td>\n",
              "      <td>1853</td>\n",
              "    </tr>\n",
              "  </tbody>\n",
              "</table>\n",
              "</div>"
            ],
            "text/plain": [
              "      city        country  avg_temp  year\n",
              "0  Abidjan  Côte D'Ivoire     25.58  1849\n",
              "1  Abidjan  Côte D'Ivoire     25.52  1850\n",
              "2  Abidjan  Côte D'Ivoire     25.67  1851\n",
              "3  Abidjan  Côte D'Ivoire       NaN  1852\n",
              "4  Abidjan  Côte D'Ivoire       NaN  1853"
            ]
          },
          "metadata": {
            "tags": []
          },
          "execution_count": 1
        }
      ]
    },
    {
      "cell_type": "markdown",
      "metadata": {
        "id": "BzNtw5VSumnH"
      },
      "source": [
        "Import Chicago weather file "
      ]
    },
    {
      "cell_type": "code",
      "metadata": {
        "colab": {
          "base_uri": "https://localhost:8080/",
          "height": 197
        },
        "id": "-KU7xouTqNoP",
        "outputId": "52ba5c6b-80be-4497-aabf-02500b74c1ff"
      },
      "source": [
        " chicago_weather = city_weather[city_weather[\"city\"] == \"Chicago\"]\r\n",
        "chicago_weather.head()"
      ],
      "execution_count": null,
      "outputs": [
        {
          "output_type": "execute_result",
          "data": {
            "text/html": [
              "<div>\n",
              "<style scoped>\n",
              "    .dataframe tbody tr th:only-of-type {\n",
              "        vertical-align: middle;\n",
              "    }\n",
              "\n",
              "    .dataframe tbody tr th {\n",
              "        vertical-align: top;\n",
              "    }\n",
              "\n",
              "    .dataframe thead th {\n",
              "        text-align: right;\n",
              "    }\n",
              "</style>\n",
              "<table border=\"1\" class=\"dataframe\">\n",
              "  <thead>\n",
              "    <tr style=\"text-align: right;\">\n",
              "      <th></th>\n",
              "      <th>city</th>\n",
              "      <th>country</th>\n",
              "      <th>avg_temp</th>\n",
              "      <th>year</th>\n",
              "    </tr>\n",
              "  </thead>\n",
              "  <tbody>\n",
              "    <tr>\n",
              "      <th>15107</th>\n",
              "      <td>Chicago</td>\n",
              "      <td>United States</td>\n",
              "      <td>5.44</td>\n",
              "      <td>1743</td>\n",
              "    </tr>\n",
              "    <tr>\n",
              "      <th>15108</th>\n",
              "      <td>Chicago</td>\n",
              "      <td>United States</td>\n",
              "      <td>11.73</td>\n",
              "      <td>1744</td>\n",
              "    </tr>\n",
              "    <tr>\n",
              "      <th>15109</th>\n",
              "      <td>Chicago</td>\n",
              "      <td>United States</td>\n",
              "      <td>1.80</td>\n",
              "      <td>1745</td>\n",
              "    </tr>\n",
              "    <tr>\n",
              "      <th>15110</th>\n",
              "      <td>Chicago</td>\n",
              "      <td>United States</td>\n",
              "      <td>NaN</td>\n",
              "      <td>1746</td>\n",
              "    </tr>\n",
              "    <tr>\n",
              "      <th>15111</th>\n",
              "      <td>Chicago</td>\n",
              "      <td>United States</td>\n",
              "      <td>NaN</td>\n",
              "      <td>1747</td>\n",
              "    </tr>\n",
              "  </tbody>\n",
              "</table>\n",
              "</div>"
            ],
            "text/plain": [
              "          city        country  avg_temp  year\n",
              "15107  Chicago  United States      5.44  1743\n",
              "15108  Chicago  United States     11.73  1744\n",
              "15109  Chicago  United States      1.80  1745\n",
              "15110  Chicago  United States       NaN  1746\n",
              "15111  Chicago  United States       NaN  1747"
            ]
          },
          "metadata": {
            "tags": []
          },
          "execution_count": 2
        }
      ]
    },
    {
      "cell_type": "markdown",
      "metadata": {
        "id": "mA14xJqCutfY"
      },
      "source": [
        "Import Global Weather file "
      ]
    },
    {
      "cell_type": "code",
      "metadata": {
        "id": "IaRAo5LRozEe",
        "colab": {
          "base_uri": "https://localhost:8080/",
          "height": 190
        },
        "outputId": "4980f793-f42e-4c68-b130-76f58a6166b2"
      },
      "source": [
        "global_weather = pd.read_csv('https://raw.githubusercontent.com/freedom-780/Weather_trends/b4066594b64afa00050fffdfc4995868d2f36ed1/global_data.csv')\r\n",
        "global_weather.head()"
      ],
      "execution_count": null,
      "outputs": [
        {
          "output_type": "execute_result",
          "data": {
            "text/html": [
              "<div>\n",
              "<style scoped>\n",
              "    .dataframe tbody tr th:only-of-type {\n",
              "        vertical-align: middle;\n",
              "    }\n",
              "\n",
              "    .dataframe tbody tr th {\n",
              "        vertical-align: top;\n",
              "    }\n",
              "\n",
              "    .dataframe thead th {\n",
              "        text-align: right;\n",
              "    }\n",
              "</style>\n",
              "<table border=\"1\" class=\"dataframe\">\n",
              "  <thead>\n",
              "    <tr style=\"text-align: right;\">\n",
              "      <th></th>\n",
              "      <th>avg_temp</th>\n",
              "      <th>year</th>\n",
              "    </tr>\n",
              "  </thead>\n",
              "  <tbody>\n",
              "    <tr>\n",
              "      <th>0</th>\n",
              "      <td>8.72</td>\n",
              "      <td>1750</td>\n",
              "    </tr>\n",
              "    <tr>\n",
              "      <th>1</th>\n",
              "      <td>7.98</td>\n",
              "      <td>1751</td>\n",
              "    </tr>\n",
              "    <tr>\n",
              "      <th>2</th>\n",
              "      <td>5.78</td>\n",
              "      <td>1752</td>\n",
              "    </tr>\n",
              "    <tr>\n",
              "      <th>3</th>\n",
              "      <td>8.39</td>\n",
              "      <td>1753</td>\n",
              "    </tr>\n",
              "    <tr>\n",
              "      <th>4</th>\n",
              "      <td>8.47</td>\n",
              "      <td>1754</td>\n",
              "    </tr>\n",
              "  </tbody>\n",
              "</table>\n",
              "</div>"
            ],
            "text/plain": [
              "   avg_temp  year\n",
              "0      8.72  1750\n",
              "1      7.98  1751\n",
              "2      5.78  1752\n",
              "3      8.39  1753\n",
              "4      8.47  1754"
            ]
          },
          "metadata": {
            "tags": []
          },
          "execution_count": 3
        }
      ]
    },
    {
      "cell_type": "markdown",
      "metadata": {
        "id": "M8j-zdWBwkSK"
      },
      "source": [
        "Import globle CO2 data"
      ]
    },
    {
      "cell_type": "code",
      "metadata": {
        "id": "fi6NBWrUi_O4",
        "colab": {
          "base_uri": "https://localhost:8080/",
          "height": 197
        },
        "outputId": "af8870cc-ec7b-446a-973e-8582d0c4eca4"
      },
      "source": [
        "global_co2_ann_average = pd.read_csv('https://raw.githubusercontent.com/freedom-780/Weather_trends/main/co2_annmean_gl.csv')\r\n",
        "global_co2_ann_average.head()"
      ],
      "execution_count": null,
      "outputs": [
        {
          "output_type": "execute_result",
          "data": {
            "text/html": [
              "<div>\n",
              "<style scoped>\n",
              "    .dataframe tbody tr th:only-of-type {\n",
              "        vertical-align: middle;\n",
              "    }\n",
              "\n",
              "    .dataframe tbody tr th {\n",
              "        vertical-align: top;\n",
              "    }\n",
              "\n",
              "    .dataframe thead th {\n",
              "        text-align: right;\n",
              "    }\n",
              "</style>\n",
              "<table border=\"1\" class=\"dataframe\">\n",
              "  <thead>\n",
              "    <tr style=\"text-align: right;\">\n",
              "      <th></th>\n",
              "      <th>year</th>\n",
              "      <th>mean</th>\n",
              "    </tr>\n",
              "  </thead>\n",
              "  <tbody>\n",
              "    <tr>\n",
              "      <th>0</th>\n",
              "      <td>1980</td>\n",
              "      <td>338.91</td>\n",
              "    </tr>\n",
              "    <tr>\n",
              "      <th>1</th>\n",
              "      <td>1981</td>\n",
              "      <td>340.11</td>\n",
              "    </tr>\n",
              "    <tr>\n",
              "      <th>2</th>\n",
              "      <td>1982</td>\n",
              "      <td>340.86</td>\n",
              "    </tr>\n",
              "    <tr>\n",
              "      <th>3</th>\n",
              "      <td>1983</td>\n",
              "      <td>342.53</td>\n",
              "    </tr>\n",
              "    <tr>\n",
              "      <th>4</th>\n",
              "      <td>1984</td>\n",
              "      <td>344.07</td>\n",
              "    </tr>\n",
              "  </tbody>\n",
              "</table>\n",
              "</div>"
            ],
            "text/plain": [
              "   year    mean\n",
              "0  1980  338.91\n",
              "1  1981  340.11\n",
              "2  1982  340.86\n",
              "3  1983  342.53\n",
              "4  1984  344.07"
            ]
          },
          "metadata": {
            "tags": []
          },
          "execution_count": 4
        }
      ]
    },
    {
      "cell_type": "code",
      "metadata": {
        "id": "zuHezublNHYQ",
        "colab": {
          "base_uri": "https://localhost:8080/",
          "height": 197
        },
        "outputId": "6017fefc-046a-4955-837c-9b0f6e1a867d"
      },
      "source": [
        "global_co2_ann_growth = pd.read_csv('https://raw.githubusercontent.com/freedom-780/Weather_trends/main/co2_gr_gl.csv')\r\n",
        "global_co2_ann_growth.head()"
      ],
      "execution_count": null,
      "outputs": [
        {
          "output_type": "execute_result",
          "data": {
            "text/html": [
              "<div>\n",
              "<style scoped>\n",
              "    .dataframe tbody tr th:only-of-type {\n",
              "        vertical-align: middle;\n",
              "    }\n",
              "\n",
              "    .dataframe tbody tr th {\n",
              "        vertical-align: top;\n",
              "    }\n",
              "\n",
              "    .dataframe thead th {\n",
              "        text-align: right;\n",
              "    }\n",
              "</style>\n",
              "<table border=\"1\" class=\"dataframe\">\n",
              "  <thead>\n",
              "    <tr style=\"text-align: right;\">\n",
              "      <th></th>\n",
              "      <th>year</th>\n",
              "      <th>ann_inc</th>\n",
              "    </tr>\n",
              "  </thead>\n",
              "  <tbody>\n",
              "    <tr>\n",
              "      <th>0</th>\n",
              "      <td>1959</td>\n",
              "      <td>0.96</td>\n",
              "    </tr>\n",
              "    <tr>\n",
              "      <th>1</th>\n",
              "      <td>1960</td>\n",
              "      <td>0.71</td>\n",
              "    </tr>\n",
              "    <tr>\n",
              "      <th>2</th>\n",
              "      <td>1961</td>\n",
              "      <td>0.78</td>\n",
              "    </tr>\n",
              "    <tr>\n",
              "      <th>3</th>\n",
              "      <td>1962</td>\n",
              "      <td>0.56</td>\n",
              "    </tr>\n",
              "    <tr>\n",
              "      <th>4</th>\n",
              "      <td>1963</td>\n",
              "      <td>0.57</td>\n",
              "    </tr>\n",
              "  </tbody>\n",
              "</table>\n",
              "</div>"
            ],
            "text/plain": [
              "   year  ann_inc\n",
              "0  1959     0.96\n",
              "1  1960     0.71\n",
              "2  1961     0.78\n",
              "3  1962     0.56\n",
              "4  1963     0.57"
            ]
          },
          "metadata": {
            "tags": []
          },
          "execution_count": 38
        }
      ]
    },
    {
      "cell_type": "markdown",
      "metadata": {
        "id": "ZQCpNyp5HtxP"
      },
      "source": [
        "\r\n",
        "# Exploratory Data Analysis"
      ]
    },
    {
      "cell_type": "markdown",
      "metadata": {
        "id": "efGY0P5BuonC"
      },
      "source": [
        "check for null values "
      ]
    },
    {
      "cell_type": "code",
      "metadata": {
        "colab": {
          "base_uri": "https://localhost:8080/"
        },
        "id": "NJAWU2A5IDsZ",
        "outputId": "620b165f-3296-4423-e7e8-dce39b9cb76c"
      },
      "source": [
        "chicago_weather.isnull().sum()"
      ],
      "execution_count": null,
      "outputs": [
        {
          "output_type": "execute_result",
          "data": {
            "text/plain": [
              "city        0\n",
              "country     0\n",
              "avg_temp    4\n",
              "year        0\n",
              "dtype: int64"
            ]
          },
          "metadata": {
            "tags": []
          },
          "execution_count": 6
        }
      ]
    },
    {
      "cell_type": "markdown",
      "metadata": {
        "id": "Phem4P-uZIFF"
      },
      "source": [
        "fill the NA with previous values for the Chicago trend file\r\n",
        "and double check if there still are null values"
      ]
    },
    {
      "cell_type": "code",
      "metadata": {
        "colab": {
          "base_uri": "https://localhost:8080/"
        },
        "id": "cPplyQ-DZPS_",
        "outputId": "3dfa34c0-4473-4c06-e63f-5c5c60b96ac8"
      },
      "source": [
        "chicago_weather_fill = chicago_weather.fillna(method='ffill')\r\n",
        "chicago_weather_fill.isnull().sum()"
      ],
      "execution_count": null,
      "outputs": [
        {
          "output_type": "execute_result",
          "data": {
            "text/plain": [
              "city        0\n",
              "country     0\n",
              "avg_temp    0\n",
              "year        0\n",
              "dtype: int64"
            ]
          },
          "metadata": {
            "tags": []
          },
          "execution_count": 7
        }
      ]
    },
    {
      "cell_type": "code",
      "metadata": {
        "colab": {
          "base_uri": "https://localhost:8080/"
        },
        "id": "YhTc2wKTO_S1",
        "outputId": "cc3448a0-f690-44b2-80d0-19a00605cee5"
      },
      "source": [
        "global_weather.isnull().sum()"
      ],
      "execution_count": null,
      "outputs": [
        {
          "output_type": "execute_result",
          "data": {
            "text/plain": [
              "avg_temp    0\n",
              "year        0\n",
              "dtype: int64"
            ]
          },
          "metadata": {
            "tags": []
          },
          "execution_count": 8
        }
      ]
    },
    {
      "cell_type": "markdown",
      "metadata": {
        "id": "aE11aTmIaMHO"
      },
      "source": [
        "Initial Plot of data without moving averages"
      ]
    },
    {
      "cell_type": "code",
      "metadata": {
        "colab": {
          "base_uri": "https://localhost:8080/",
          "height": 400
        },
        "id": "Bqt1RhWldrwm",
        "outputId": "e2f8948c-40ba-4b9a-fe7b-a632b4abb65e"
      },
      "source": [
        "sns.set_style(\"darkgrid\") \r\n",
        "sns.relplot(x=\"year\", y=\"avg_temp\", kind=\"line\", data=chicago_weather_fill)\r\n"
      ],
      "execution_count": null,
      "outputs": [
        {
          "output_type": "execute_result",
          "data": {
            "text/plain": [
              "<seaborn.axisgrid.FacetGrid at 0x7f25b0e80f60>"
            ]
          },
          "metadata": {
            "tags": []
          },
          "execution_count": 9
        },
        {
          "output_type": "display_data",
          "data": {
            "image/png": "[encoded data removed]",
            "text/plain": [
              "<Figure size 360x360 with 1 Axes>"
            ]
          },
          "metadata": {
            "tags": []
          }
        }
      ]
    },
    {
      "cell_type": "markdown",
      "metadata": {
        "id": "oDiDBT2jnAfk"
      },
      "source": [
        "Plot the average CO2 rate "
      ]
    },
    {
      "cell_type": "code",
      "metadata": {
        "id": "ap-C0pTBGb-m",
        "colab": {
          "base_uri": "https://localhost:8080/",
          "height": 400
        },
        "outputId": "903c0593-8759-48d9-e3c7-48b73327dfaf"
      },
      "source": [
        "sns.relplot(x=\"year\", y=\"mean\", kind=\"line\", data=global_co2_ann_average)"
      ],
      "execution_count": null,
      "outputs": [
        {
          "output_type": "execute_result",
          "data": {
            "text/plain": [
              "<seaborn.axisgrid.FacetGrid at 0x7f25a82f86d8>"
            ]
          },
          "metadata": {
            "tags": []
          },
          "execution_count": 10
        },
        {
          "output_type": "display_data",
          "data": {
            "image/png": "[encoded data removed]",
            "text/plain": [
              "<Figure size 360x360 with 1 Axes>"
            ]
          },
          "metadata": {
            "tags": []
          }
        }
      ]
    },
    {
      "cell_type": "markdown",
      "metadata": {
        "id": "HArVpQwwnNqO"
      },
      "source": [
        "Plot CO2 the annual growth rate per year using rolling average"
      ]
    },
    {
      "cell_type": "code",
      "metadata": {
        "id": "oJqX9DrCnVuL",
        "colab": {
          "base_uri": "https://localhost:8080/",
          "height": 400
        },
        "outputId": "48dc2d39-302e-4434-e4b6-a1dce66063b5"
      },
      "source": [
        "global_co2_ann_growth[ '15year_rolling_avg' ] = global_co2_ann_growth.ann_inc.rolling(15).mean() # Calculate the rolling average\r\n",
        "global_co2_ann_growth.head(16)\r\n",
        "sns.relplot(x=\"year\", y=\"15year_rolling_avg\", kind='line', data=global_co2_ann_growth)"
      ],
      "execution_count": null,
      "outputs": [
        {
          "output_type": "execute_result",
          "data": {
            "text/plain": [
              "<seaborn.axisgrid.FacetGrid at 0x7f25a6bfd160>"
            ]
          },
          "metadata": {
            "tags": []
          },
          "execution_count": 40
        },
        {
          "output_type": "display_data",
          "data": {
            "image/png": "[encoded data removed]",
            "text/plain": [
              "<Figure size 360x360 with 1 Axes>"
            ]
          },
          "metadata": {
            "tags": []
          }
        }
      ]
    },
    {
      "cell_type": "markdown",
      "metadata": {
        "id": "BgzUqBZ2vVHr"
      },
      "source": [
        "# Calculate the Moving Average of Data and Plot "
      ]
    },
    {
      "cell_type": "markdown",
      "metadata": {
        "id": "K616Gmk0R-I_"
      },
      "source": [
        "Use avg_temp.rolling().mean() methods to calcuate the average mean\r\n",
        "for chicago and global weather trends. According to the National Center for Environmental Information, 30 years is the typical moving average, but 15 is used to find smaller variations for climate change, so 15 years are used. Different averages were tested and 15 seems to be a good compromise"
      ]
    },
    {
      "cell_type": "code",
      "metadata": {
        "colab": {
          "base_uri": "https://localhost:8080/",
          "height": 525
        },
        "id": "XQxGq1AFvkRM",
        "outputId": "a70b9efb-1474-49c3-bd77-984aee1a1096"
      },
      "source": [
        "chicago_weather_fill[ '15year_rolling_avg' ] = chicago_weather_fill.avg_temp.rolling(15).mean()\r\n",
        "chicago_weather_fill.head(16)"
      ],
      "execution_count": null,
      "outputs": [
        {
          "output_type": "execute_result",
          "data": {
            "text/html": [
              "<div>\n",
              "<style scoped>\n",
              "    .dataframe tbody tr th:only-of-type {\n",
              "        vertical-align: middle;\n",
              "    }\n",
              "\n",
              "    .dataframe tbody tr th {\n",
              "        vertical-align: top;\n",
              "    }\n",
              "\n",
              "    .dataframe thead th {\n",
              "        text-align: right;\n",
              "    }\n",
              "</style>\n",
              "<table border=\"1\" class=\"dataframe\">\n",
              "  <thead>\n",
              "    <tr style=\"text-align: right;\">\n",
              "      <th></th>\n",
              "      <th>city</th>\n",
              "      <th>country</th>\n",
              "      <th>avg_temp</th>\n",
              "      <th>year</th>\n",
              "      <th>15year_rolling_avg</th>\n",
              "    </tr>\n",
              "  </thead>\n",
              "  <tbody>\n",
              "    <tr>\n",
              "      <th>15107</th>\n",
              "      <td>Chicago</td>\n",
              "      <td>United States</td>\n",
              "      <td>5.44</td>\n",
              "      <td>1743</td>\n",
              "      <td>NaN</td>\n",
              "    </tr>\n",
              "    <tr>\n",
              "      <th>15108</th>\n",
              "      <td>Chicago</td>\n",
              "      <td>United States</td>\n",
              "      <td>11.73</td>\n",
              "      <td>1744</td>\n",
              "      <td>NaN</td>\n",
              "    </tr>\n",
              "    <tr>\n",
              "      <th>15109</th>\n",
              "      <td>Chicago</td>\n",
              "      <td>United States</td>\n",
              "      <td>1.80</td>\n",
              "      <td>1745</td>\n",
              "      <td>NaN</td>\n",
              "    </tr>\n",
              "    <tr>\n",
              "      <th>15110</th>\n",
              "      <td>Chicago</td>\n",
              "      <td>United States</td>\n",
              "      <td>1.80</td>\n",
              "      <td>1746</td>\n",
              "      <td>NaN</td>\n",
              "    </tr>\n",
              "    <tr>\n",
              "      <th>15111</th>\n",
              "      <td>Chicago</td>\n",
              "      <td>United States</td>\n",
              "      <td>1.80</td>\n",
              "      <td>1747</td>\n",
              "      <td>NaN</td>\n",
              "    </tr>\n",
              "    <tr>\n",
              "      <th>15112</th>\n",
              "      <td>Chicago</td>\n",
              "      <td>United States</td>\n",
              "      <td>1.80</td>\n",
              "      <td>1748</td>\n",
              "      <td>NaN</td>\n",
              "    </tr>\n",
              "    <tr>\n",
              "      <th>15113</th>\n",
              "      <td>Chicago</td>\n",
              "      <td>United States</td>\n",
              "      <td>1.80</td>\n",
              "      <td>1749</td>\n",
              "      <td>NaN</td>\n",
              "    </tr>\n",
              "    <tr>\n",
              "      <th>15114</th>\n",
              "      <td>Chicago</td>\n",
              "      <td>United States</td>\n",
              "      <td>10.49</td>\n",
              "      <td>1750</td>\n",
              "      <td>NaN</td>\n",
              "    </tr>\n",
              "    <tr>\n",
              "      <th>15115</th>\n",
              "      <td>Chicago</td>\n",
              "      <td>United States</td>\n",
              "      <td>11.19</td>\n",
              "      <td>1751</td>\n",
              "      <td>NaN</td>\n",
              "    </tr>\n",
              "    <tr>\n",
              "      <th>15116</th>\n",
              "      <td>Chicago</td>\n",
              "      <td>United States</td>\n",
              "      <td>4.50</td>\n",
              "      <td>1752</td>\n",
              "      <td>NaN</td>\n",
              "    </tr>\n",
              "    <tr>\n",
              "      <th>15117</th>\n",
              "      <td>Chicago</td>\n",
              "      <td>United States</td>\n",
              "      <td>10.04</td>\n",
              "      <td>1753</td>\n",
              "      <td>NaN</td>\n",
              "    </tr>\n",
              "    <tr>\n",
              "      <th>15118</th>\n",
              "      <td>Chicago</td>\n",
              "      <td>United States</td>\n",
              "      <td>10.64</td>\n",
              "      <td>1754</td>\n",
              "      <td>NaN</td>\n",
              "    </tr>\n",
              "    <tr>\n",
              "      <th>15119</th>\n",
              "      <td>Chicago</td>\n",
              "      <td>United States</td>\n",
              "      <td>7.41</td>\n",
              "      <td>1755</td>\n",
              "      <td>NaN</td>\n",
              "    </tr>\n",
              "    <tr>\n",
              "      <th>15120</th>\n",
              "      <td>Chicago</td>\n",
              "      <td>United States</td>\n",
              "      <td>11.15</td>\n",
              "      <td>1756</td>\n",
              "      <td>NaN</td>\n",
              "    </tr>\n",
              "    <tr>\n",
              "      <th>15121</th>\n",
              "      <td>Chicago</td>\n",
              "      <td>United States</td>\n",
              "      <td>9.50</td>\n",
              "      <td>1757</td>\n",
              "      <td>6.739333</td>\n",
              "    </tr>\n",
              "    <tr>\n",
              "      <th>15122</th>\n",
              "      <td>Chicago</td>\n",
              "      <td>United States</td>\n",
              "      <td>8.61</td>\n",
              "      <td>1758</td>\n",
              "      <td>6.950667</td>\n",
              "    </tr>\n",
              "  </tbody>\n",
              "</table>\n",
              "</div>"
            ],
            "text/plain": [
              "          city        country  avg_temp  year  15year_rolling_avg\n",
              "15107  Chicago  United States      5.44  1743                 NaN\n",
              "15108  Chicago  United States     11.73  1744                 NaN\n",
              "15109  Chicago  United States      1.80  1745                 NaN\n",
              "15110  Chicago  United States      1.80  1746                 NaN\n",
              "15111  Chicago  United States      1.80  1747                 NaN\n",
              "15112  Chicago  United States      1.80  1748                 NaN\n",
              "15113  Chicago  United States      1.80  1749                 NaN\n",
              "15114  Chicago  United States     10.49  1750                 NaN\n",
              "15115  Chicago  United States     11.19  1751                 NaN\n",
              "15116  Chicago  United States      4.50  1752                 NaN\n",
              "15117  Chicago  United States     10.04  1753                 NaN\n",
              "15118  Chicago  United States     10.64  1754                 NaN\n",
              "15119  Chicago  United States      7.41  1755                 NaN\n",
              "15120  Chicago  United States     11.15  1756                 NaN\n",
              "15121  Chicago  United States      9.50  1757            6.739333\n",
              "15122  Chicago  United States      8.61  1758            6.950667"
            ]
          },
          "metadata": {
            "tags": []
          },
          "execution_count": 49
        }
      ]
    },
    {
      "cell_type": "markdown",
      "metadata": {
        "id": "W7A1Zgx2RJi3"
      },
      "source": [
        "plot moving average Chicago weather trends"
      ]
    },
    {
      "cell_type": "code",
      "metadata": {
        "colab": {
          "base_uri": "https://localhost:8080/",
          "height": 423
        },
        "id": "DrETEikVxFqU",
        "outputId": "ddfd4491-8930-452d-df5e-219f258789b7"
      },
      "source": [
        "\r\n",
        "sns.relplot(x=\"year\", y='15year_rolling_avg', kind=\"line\", data=chicago_weather_fill)\r\n",
        "plt.xlabel(\"year\", size=16)\r\n",
        "plt.ylabel(\"Average Temperature in Celsius\", size=16)\r\n",
        "plt.title(\"Chicago Weather Trends\", size=16)\r\n",
        "plt.xlim(xmin=1740, xmax=2015) # Used these limits from the max and mins from the two data sets\r\n",
        "plt.ylim(ymin=6, ymax=11.5) # Used these limits from the max and mins from the two data sets\r\n",
        "\r\n"
      ],
      "execution_count": null,
      "outputs": [
        {
          "output_type": "execute_result",
          "data": {
            "text/plain": [
              "(6.0, 11.5)"
            ]
          },
          "metadata": {
            "tags": []
          },
          "execution_count": 50
        },
        {
          "output_type": "display_data",
          "data": {
            "image/png": "[encoded data removed]",
            "text/plain": [
              "<Figure size 360x360 with 1 Axes>"
            ]
          },
          "metadata": {
            "tags": []
          }
        }
      ]
    },
    {
      "cell_type": "markdown",
      "metadata": {
        "id": "DcMMObO3TdR3"
      },
      "source": [
        "Get some statistics on the data"
      ]
    },
    {
      "cell_type": "code",
      "metadata": {
        "colab": {
          "base_uri": "https://localhost:8080/",
          "height": 286
        },
        "id": "9GwQxLDFSkpu",
        "outputId": "3f5aff59-3f60-48ab-ff04-b3e64e3b8452"
      },
      "source": [
        "chicago_weather_fill.describe()"
      ],
      "execution_count": null,
      "outputs": [
        {
          "output_type": "execute_result",
          "data": {
            "text/html": [
              "<div>\n",
              "<style scoped>\n",
              "    .dataframe tbody tr th:only-of-type {\n",
              "        vertical-align: middle;\n",
              "    }\n",
              "\n",
              "    .dataframe tbody tr th {\n",
              "        vertical-align: top;\n",
              "    }\n",
              "\n",
              "    .dataframe thead th {\n",
              "        text-align: right;\n",
              "    }\n",
              "</style>\n",
              "<table border=\"1\" class=\"dataframe\">\n",
              "  <thead>\n",
              "    <tr style=\"text-align: right;\">\n",
              "      <th></th>\n",
              "      <th>avg_temp</th>\n",
              "      <th>year</th>\n",
              "      <th>15year_rolling_avg</th>\n",
              "    </tr>\n",
              "  </thead>\n",
              "  <tbody>\n",
              "    <tr>\n",
              "      <th>count</th>\n",
              "      <td>271.000000</td>\n",
              "      <td>271.000000</td>\n",
              "      <td>257.000000</td>\n",
              "    </tr>\n",
              "    <tr>\n",
              "      <th>mean</th>\n",
              "      <td>9.906494</td>\n",
              "      <td>1878.000000</td>\n",
              "      <td>9.984861</td>\n",
              "    </tr>\n",
              "    <tr>\n",
              "      <th>std</th>\n",
              "      <td>1.491861</td>\n",
              "      <td>78.375166</td>\n",
              "      <td>0.614833</td>\n",
              "    </tr>\n",
              "    <tr>\n",
              "      <th>min</th>\n",
              "      <td>1.800000</td>\n",
              "      <td>1743.000000</td>\n",
              "      <td>6.739333</td>\n",
              "    </tr>\n",
              "    <tr>\n",
              "      <th>25%</th>\n",
              "      <td>9.450000</td>\n",
              "      <td>1810.500000</td>\n",
              "      <td>9.751333</td>\n",
              "    </tr>\n",
              "    <tr>\n",
              "      <th>50%</th>\n",
              "      <td>10.100000</td>\n",
              "      <td>1878.000000</td>\n",
              "      <td>9.977333</td>\n",
              "    </tr>\n",
              "    <tr>\n",
              "      <th>75%</th>\n",
              "      <td>10.580000</td>\n",
              "      <td>1945.500000</td>\n",
              "      <td>10.324000</td>\n",
              "    </tr>\n",
              "    <tr>\n",
              "      <th>max</th>\n",
              "      <td>12.820000</td>\n",
              "      <td>2013.000000</td>\n",
              "      <td>11.437333</td>\n",
              "    </tr>\n",
              "  </tbody>\n",
              "</table>\n",
              "</div>"
            ],
            "text/plain": [
              "         avg_temp         year  15year_rolling_avg\n",
              "count  271.000000   271.000000          257.000000\n",
              "mean     9.906494  1878.000000            9.984861\n",
              "std      1.491861    78.375166            0.614833\n",
              "min      1.800000  1743.000000            6.739333\n",
              "25%      9.450000  1810.500000            9.751333\n",
              "50%     10.100000  1878.000000            9.977333\n",
              "75%     10.580000  1945.500000           10.324000\n",
              "max     12.820000  2013.000000           11.437333"
            ]
          },
          "metadata": {
            "tags": []
          },
          "execution_count": 14
        }
      ]
    },
    {
      "cell_type": "markdown",
      "metadata": {
        "id": "Ek40zwzBUgrQ"
      },
      "source": [
        "plot moving average Global weather trends"
      ]
    },
    {
      "cell_type": "code",
      "metadata": {
        "id": "jqmC2QHU2k6R"
      },
      "source": [
        "global_weather['15year_rolling_avg_global'] = global_weather.avg_temp.rolling(15).mean() "
      ],
      "execution_count": null,
      "outputs": []
    },
    {
      "cell_type": "code",
      "metadata": {
        "colab": {
          "base_uri": "https://localhost:8080/",
          "height": 423
        },
        "id": "CoCCuarHjaVv",
        "outputId": "6ac58acb-b8db-4e45-bad5-fb71e466aecd"
      },
      "source": [
        "sns.relplot(x=\"year\", y='15year_rolling_avg_global', kind=\"line\", data=global_weather)\r\n",
        "plt.xlabel(\"year\", size=16)\r\n",
        "plt.ylabel(\"Average Temperature in Celsius\", size=16)\r\n",
        "plt.title(\"Global Weather Trends\", size=16)\r\n",
        "plt.xlim(xmin=1740, xmax=2014) # Used these limits from the max and mins from the two data sets\r\n",
        "plt.ylim(ymin=6, ymax=11.5) # Used these limits from the max and mins from the two data sets\r\n",
        "\r\n",
        "\r\n"
      ],
      "execution_count": null,
      "outputs": [
        {
          "output_type": "execute_result",
          "data": {
            "text/plain": [
              "(6.0, 11.5)"
            ]
          },
          "metadata": {
            "tags": []
          },
          "execution_count": 44
        },
        {
          "output_type": "display_data",
          "data": {
            "image/png": "[encoded data removed]",
            "text/plain": [
              "<Figure size 360x360 with 1 Axes>"
            ]
          },
          "metadata": {
            "tags": []
          }
        }
      ]
    },
    {
      "cell_type": "markdown",
      "metadata": {
        "id": "6bpimXw_Upqk"
      },
      "source": [
        "Get some statistics on the data"
      ]
    },
    {
      "cell_type": "code",
      "metadata": {
        "colab": {
          "base_uri": "https://localhost:8080/",
          "height": 286
        },
        "id": "fSxX8-y7TnUu",
        "outputId": "c25d1c7b-ed45-4886-a717-8349a31fee0c"
      },
      "source": [
        "global_weather.describe()"
      ],
      "execution_count": null,
      "outputs": [
        {
          "output_type": "execute_result",
          "data": {
            "text/html": [
              "<div>\n",
              "<style scoped>\n",
              "    .dataframe tbody tr th:only-of-type {\n",
              "        vertical-align: middle;\n",
              "    }\n",
              "\n",
              "    .dataframe tbody tr th {\n",
              "        vertical-align: top;\n",
              "    }\n",
              "\n",
              "    .dataframe thead th {\n",
              "        text-align: right;\n",
              "    }\n",
              "</style>\n",
              "<table border=\"1\" class=\"dataframe\">\n",
              "  <thead>\n",
              "    <tr style=\"text-align: right;\">\n",
              "      <th></th>\n",
              "      <th>avg_temp</th>\n",
              "      <th>year</th>\n",
              "      <th>15year_rolling_avg_global</th>\n",
              "    </tr>\n",
              "  </thead>\n",
              "  <tbody>\n",
              "    <tr>\n",
              "      <th>count</th>\n",
              "      <td>266.000000</td>\n",
              "      <td>266.000000</td>\n",
              "      <td>252.000000</td>\n",
              "    </tr>\n",
              "    <tr>\n",
              "      <th>mean</th>\n",
              "      <td>8.369474</td>\n",
              "      <td>1882.500000</td>\n",
              "      <td>8.345159</td>\n",
              "    </tr>\n",
              "    <tr>\n",
              "      <th>std</th>\n",
              "      <td>0.584747</td>\n",
              "      <td>76.931788</td>\n",
              "      <td>0.419722</td>\n",
              "    </tr>\n",
              "    <tr>\n",
              "      <th>min</th>\n",
              "      <td>5.780000</td>\n",
              "      <td>1750.000000</td>\n",
              "      <td>7.408667</td>\n",
              "    </tr>\n",
              "    <tr>\n",
              "      <th>25%</th>\n",
              "      <td>8.082500</td>\n",
              "      <td>1816.250000</td>\n",
              "      <td>8.057500</td>\n",
              "    </tr>\n",
              "    <tr>\n",
              "      <th>50%</th>\n",
              "      <td>8.375000</td>\n",
              "      <td>1882.500000</td>\n",
              "      <td>8.256667</td>\n",
              "    </tr>\n",
              "    <tr>\n",
              "      <th>75%</th>\n",
              "      <td>8.707500</td>\n",
              "      <td>1948.750000</td>\n",
              "      <td>8.640667</td>\n",
              "    </tr>\n",
              "    <tr>\n",
              "      <th>max</th>\n",
              "      <td>9.830000</td>\n",
              "      <td>2015.000000</td>\n",
              "      <td>9.564667</td>\n",
              "    </tr>\n",
              "  </tbody>\n",
              "</table>\n",
              "</div>"
            ],
            "text/plain": [
              "         avg_temp         year  15year_rolling_avg_global\n",
              "count  266.000000   266.000000                 252.000000\n",
              "mean     8.369474  1882.500000                   8.345159\n",
              "std      0.584747    76.931788                   0.419722\n",
              "min      5.780000  1750.000000                   7.408667\n",
              "25%      8.082500  1816.250000                   8.057500\n",
              "50%      8.375000  1882.500000                   8.256667\n",
              "75%      8.707500  1948.750000                   8.640667\n",
              "max      9.830000  2015.000000                   9.564667"
            ]
          },
          "metadata": {
            "tags": []
          },
          "execution_count": 17
        }
      ]
    },
    {
      "cell_type": "markdown",
      "metadata": {
        "id": "ZD98zBTdCB2Z"
      },
      "source": [
        "# Final Temperature Moving Average Graphs Plotted Together "
      ]
    },
    {
      "cell_type": "code",
      "metadata": {
        "colab": {
          "base_uri": "https://localhost:8080/",
          "height": 777
        },
        "id": "k09Ycnf1CK_U",
        "outputId": "9190bce7-9165-451c-e778-5fdc6c80895b"
      },
      "source": [
        "\r\n",
        "sns.relplot(x=\"year\", y='15year_rolling_avg', kind=\"line\", data=chicago_weather_fill) # Chicago Weather Trends Graph\r\n",
        "plt.xlabel(\"year\", size=16)\r\n",
        "plt.ylabel(\"Average Temperature(Celsius)\", size=16)\r\n",
        "plt.title(\"Line Chart of Chicago Temperature (Moving Average)\", size=16)\r\n",
        "plt.xlim(xmin=1740, xmax=2015) # Used these limits from the max and mins from the two data sets\r\n",
        "plt.ylim(ymin=6, ymax=11.5) # Used these limits from the max and mins from the two data sets\r\n",
        "\r\n",
        "sns.relplot(x=\"year\", y='15year_rolling_avg_global', kind=\"line\", data=global_weather).fig.autofmt_xdate() # Global Weather Trends Graph \r\n",
        "plt.xlabel(\"year\", size=12)\r\n",
        "plt.ylabel(\"Average Temperature(Celsius)\", size=12)\r\n",
        "plt.title(\"Line Chart of Global Moving Average Temperature\", size=16)\r\n",
        "plt.xlim(xmin=1740, xmax=2014) # Used these limits from the max and mins from the two data sets\r\n",
        "plt.ylim(ymin=6, ymax=11.5) # Used these limits from the max and mins from the two data sets\r\n",
        "\r\n",
        "\r\n"
      ],
      "execution_count": null,
      "outputs": [
        {
          "output_type": "execute_result",
          "data": {
            "text/plain": [
              "(6.0, 11.5)"
            ]
          },
          "metadata": {
            "tags": []
          },
          "execution_count": 37
        },
        {
          "output_type": "display_data",
          "data": {
            "image/png": "[encoded data removed]",
            "text/plain": [
              "<Figure size 360x360 with 1 Axes>"
            ]
          },
          "metadata": {
            "tags": []
          }
        },
        {
          "output_type": "display_data",
          "data": {
            "image/png": "[encoded data removed]",
            "text/plain": [
              "<Figure size 360x360 with 1 Axes>"
            ]
          },
          "metadata": {
            "tags": []
          }
        }
      ]
    },
    {
      "cell_type": "markdown",
      "metadata": {
        "id": "JAPZKh0qB3Lg"
      },
      "source": [
        "# Final CO2 Graphs "
      ]
    },
    {
      "cell_type": "code",
      "metadata": {
        "colab": {
          "base_uri": "https://localhost:8080/",
          "height": 808
        },
        "id": "gADiZSPp89fS",
        "outputId": "9094477d-bde1-4bae-b344-86486324030b"
      },
      "source": [
        "sns.relplot(x=\"year\", y=\"mean\", kind=\"line\", data=global_co2_ann_average) # Annual CO2 Conccentration Graph\r\n",
        "plt.xlabel(\"year\", size=12)\r\n",
        "plt.ylabel(\"CO2 Levels(parts per million(ppm))\", size=12)\r\n",
        "plt.title(\"Line Chart of Average Global CO2 Levels\", size=16)\r\n",
        "\r\n",
        "sns.relplot(x=\"year\", y=\"15year_rolling_avg\", kind='line', data=global_co2_ann_growth) # Annual CO2 growth graph\r\n",
        "plt.xlabel(\"year\", size=12)\r\n",
        "plt.ylabel(\"Annual CO2 Increase(parts per million(ppm))\", size=12)\r\n",
        "plt.title(\"Line Chart of Average Annual CO2 increases\", size=16)\r\n"
      ],
      "execution_count": null,
      "outputs": [
        {
          "output_type": "execute_result",
          "data": {
            "text/plain": [
              "Text(0.5, 1.0, 'Line Chart of Average Annual CO2 increases')"
            ]
          },
          "metadata": {
            "tags": []
          },
          "execution_count": 43
        },
        {
          "output_type": "display_data",
          "data": {
            "image/png": "[encoded data removed]",
            "text/plain": [
              "<Figure size 360x360 with 1 Axes>"
            ]
          },
          "metadata": {
            "tags": []
          }
        },
        {
          "output_type": "display_data",
          "data": {
            "image/png": "[encoded data removed]",
            "text/plain": [
              "<Figure size 360x360 with 1 Axes>"
            ]
          },
          "metadata": {
            "tags": []
          }
        }
      ]
    },
    {
      "cell_type": "markdown",
      "metadata": {
        "id": "ACk8YAl2CgPn"
      },
      "source": [
        "# Observations"
      ]
    },
    {
      "cell_type": "code",
      "metadata": {
        "id": "cgd2j__L_9pl"
      },
      "source": [
        ""
      ],
      "execution_count": null,
      "outputs": []
    },
    {
      "cell_type": "markdown",
      "metadata": {
        "id": "wOhBsxofCpBp"
      },
      "source": [
        "Observations:\r\n",
        "\r\n",
        "1.   Both Graphs share a similar increasing trends temperature trends, standard deviations ,and means. Also, the same drop in temperature is seen between 1800 and 1850 that is about 1C, which is a simificant drop in terms of climate change. A theory for this drop may be because this was some of the beginings of industrialization.\r\n",
        "2.   The Chicago weather trends graph has a steeper rise(slope) in temperature around 1750-1800 and after 1900 unlike the global trend graph.\r\n",
        "3. The Graphs have sligthy different ranges: THe Chicago graph has a range from around 7C-11C and the global graph has a range of around 7C-10C\r\n",
        "4.   Both graphs show around the 2000s or eariler a steep raise in temperature that seems to be continuing. Carbon dixiode, that is one of the major greenhouse gases that remain in the atmosphere and heat up the earth, is the primary cause of this.\r\n",
        "5.  These peaks in temperatures(that appears to be from 1980 to current day) coincide with increasing CO2 levels and increasing annual CO2 growth rates, as seen in the above graphs. \r\n",
        "\r\n",
        "\r\n",
        "\r\n",
        "\r\n",
        "\r\n",
        "\r\n",
        "\r\n"
      ]
    },
    {
      "cell_type": "markdown",
      "metadata": {
        "id": "G5PX_M88WHSt"
      },
      "source": [
        ""
      ]
    }
  ]
}